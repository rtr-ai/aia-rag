{
 "cells": [
  {
   "cell_type": "markdown",
   "metadata": {},
   "source": [
    "Set up your GitHub personal access token, repository, file path, and commit message"
   ]
  },
  {
   "cell_type": "code",
   "execution_count": null,
   "metadata": {},
   "outputs": [],
   "source": [
    "import requests\n",
    "import base64\n",
    "import json\n",
    "\n",
    "GITHUB_TOKEN = 'Insert token here'\n",
    "REPO_OWNER = 'rtr-ai'\n",
    "REPO_NAME = 'aia-rag'\n",
    "FILE_PATH = 'verordnung-2024-1689.txt'\n",
    "COMMIT_MESSAGE = 'Updated file content using Python script'\n",
    "\n",
    "# Set headers for authentication\n",
    "headers = {\n",
    "    'Authorization': f'Bearer {GITHUB_TOKEN}',\n",
    "    'Accept': 'application/vnd.github.v3+json'\n",
    "}"
   ]
  },
  {
   "cell_type": "markdown",
   "metadata": {},
   "source": [
    "Get the file's current SHA and content"
   ]
  },
  {
   "cell_type": "code",
   "execution_count": null,
   "metadata": {},
   "outputs": [],
   "source": [
    "file_url = f'https://api.github.com/repos/{REPO_OWNER}/{REPO_NAME}/contents/data/{FILE_PATH}'\n",
    "response = requests.get(file_url, headers=headers)\n",
    "response_data = response.json()\n",
    "\n",
    "file_sha = response_data['sha']\n",
    "file_content = base64.b64decode(response_data['content']).decode('utf-8')\n",
    "print(\"Current file content:\", file_content)"
   ]
  }
 ],
 "metadata": {
  "language_info": {
   "name": "python"
  }
 },
 "nbformat": 4,
 "nbformat_minor": 2
}
