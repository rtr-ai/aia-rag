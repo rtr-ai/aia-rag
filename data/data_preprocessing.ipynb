{
 "cells": [
  {
   "cell_type": "markdown",
   "metadata": {},
   "source": [
    "Set up your GitHub personal access token, repository, file path, and commit message"
   ]
  },
  {
   "cell_type": "code",
   "execution_count": 16,
   "metadata": {},
   "outputs": [],
   "source": [
    "import requests\n",
    "import base64\n",
    "import json\n",
    "\n",
    "GITHUB_TOKEN = os.getenv('GITHUB_TOKEN')\n",
    "REPO_OWNER = 'rtr-ai'\n",
    "REPO_NAME = 'aia-rag'\n",
    "FILE_PATH = 'verordnung-2024-1689_final_version.txt'\n",
    "COMMIT_MESSAGE = 'Updated file content using Python script'\n",
    "BRANCH_NAME = 'bojan'\n",
    "\n",
    "# Set headers for authentication\n",
    "headers = {\n",
    "    'Authorization': f'Bearer {GITHUB_TOKEN}',\n",
    "    'Accept': 'application/vnd.github.v3+json'\n",
    "}"
   ]
  },
  {
   "cell_type": "markdown",
   "metadata": {},
   "source": [
    "Get the file's current SHA and content"
   ]
  },
  {
   "cell_type": "code",
   "execution_count": null,
   "metadata": {},
   "outputs": [],
   "source": [
    "file_url = f'https://api.github.com/repos/{REPO_OWNER}/{REPO_NAME}/contents/data/{FILE_PATH}?ref={BRANCH_NAME}'\n",
    "response = requests.get(file_url, headers=headers)\n",
    "response_data = response.json()\n",
    "\n",
    "file_sha = response_data['sha']\n",
    "file_content = base64.b64decode(response_data['content']).decode('utf-8')\n",
    "print(\"Current file content:\", file_content)"
   ]
  },
  {
   "cell_type": "markdown",
   "metadata": {},
   "source": [
    "Remove empty lines"
   ]
  },
  {
   "cell_type": "code",
   "execution_count": null,
   "metadata": {},
   "outputs": [],
   "source": [
    "# Create a list to store non-empty lines\n",
    "non_empty_lines = []\n",
    "\n",
    "for line in file_content.splitlines():\n",
    "    if line.strip():  # Check if the line is not empty after stripping whitespace\n",
    "        non_empty_lines.append(line)\n",
    "\n",
    "# Join non-empty lines and print the result\n",
    "new_text = '\\n'.join(non_empty_lines)\n",
    "print(\"New text output:\\n\", new_text)"
   ]
  },
  {
   "cell_type": "markdown",
   "metadata": {},
   "source": [
    "Adding #, ## and ### to KAPITEL. ABSCHNITTand Artikel, respectively. "
   ]
  },
  {
   "cell_type": "code",
   "execution_count": null,
   "metadata": {},
   "outputs": [],
   "source": [
    "# Split the formatted text into lines\n",
    "lines = new_text.strip().split('\\n')\n",
    "\n",
    "# Create a new list to store the updated lines with headings\n",
    "updated_lines = []\n",
    "\n",
    "# Iterate over each line and add the appropriate heading\n",
    "for line in lines:\n",
    "    if line.startswith(\"KAPITEL\"):\n",
    "        updated_lines.append(f\"# {line}\")\n",
    "    elif line.startswith(\"ABSCHNITT\"):\n",
    "        updated_lines.append(f\"## {line}\")\n",
    "    elif line.startswith(\"Artikel\"):\n",
    "        updated_lines.append(f\"### {line}\")\n",
    "    else:\n",
    "        updated_lines.append(line)  # Keep other lines unchanged\n",
    "\n",
    "# Join the updated lines into the final output\n",
    "new_text = \"\\n\".join(updated_lines)\n",
    "print(new_text)"
   ]
  },
  {
   "cell_type": "markdown",
   "metadata": {},
   "source": [
    "Add a colon after each instance of 'Kapitel,' 'Abschnitt,' and 'Artikel,' and append the subtitle to each accordingly."
   ]
  },
  {
   "cell_type": "code",
   "execution_count": 22,
   "metadata": {},
   "outputs": [],
   "source": [
    "import re\n",
    "\n",
    "new_text = re.sub(\n",
    "    r\"(# KAPITEL\\s+[IVXLCDM]+|## ABSCHNITT\\s+\\d+|ANHANG\\s+[IVXLCDM]+)\\n([^\\n]+)|(### \\bArtikel\\s+\\d+)\\n([^\\n]+)\",\n",
    "    lambda m: f\"{m.group(1) or m.group(3)}: {m.group(2) or m.group(4)}\",\n",
    "    new_text\n",
    ")"
   ]
  },
  {
   "cell_type": "markdown",
   "metadata": {},
   "source": [
    "Fetching text in one line"
   ]
  },
  {
   "cell_type": "code",
   "execution_count": 23,
   "metadata": {},
   "outputs": [],
   "source": [
    "new_text = re.sub(r'\\((\\d+)\\)\\s*\\n', r'(\\1) ', new_text) # (176)\n",
    "                                                         # some text \n",
    "new_text = re.sub(r'([a-z])\\)\\s*\\n', r'\\1) ', new_text)  # a)\n",
    "                                                         # some text \n",
    "new_text = re.sub(r'(\\d+)\\.\\s*\\n', r'\\1. ', new_text)    # 51.\n",
    "                                                         # some text "
   ]
  },
  {
   "cell_type": "code",
   "execution_count": 25,
   "metadata": {},
   "outputs": [],
   "source": [
    "new_content = file_content.replace(file_content, new_text)\n",
    "encoded_content = base64.b64encode(new_content.encode('utf-8')).decode('utf-8')"
   ]
  },
  {
   "cell_type": "markdown",
   "metadata": {},
   "source": [
    "Update the file with new content"
   ]
  },
  {
   "cell_type": "code",
   "execution_count": 26,
   "metadata": {},
   "outputs": [
    {
     "name": "stdout",
     "output_type": "stream",
     "text": [
      "File updated successfully\n"
     ]
    }
   ],
   "source": [
    "data = {\n",
    "    'message': COMMIT_MESSAGE,\n",
    "    'content': encoded_content,\n",
    "    'sha': file_sha,\n",
    "    'branch': BRANCH_NAME\n",
    "}\n",
    "\n",
    "update_response = requests.put(file_url, headers=headers, data=json.dumps(data))\n",
    "\n",
    "# Confirm success\n",
    "if update_response.status_code == 200:\n",
    "    print(\"File updated successfully\")\n",
    "else:\n",
    "    print(\"Error updating file:\", update_response.json())\n"
   ]
  }
 ],
 "metadata": {
  "kernelspec": {
   "display_name": "Python 3",
   "language": "python",
   "name": "python3"
  },
  "language_info": {
   "codemirror_mode": {
    "name": "ipython",
    "version": 3
   },
   "file_extension": ".py",
   "mimetype": "text/x-python",
   "name": "python",
   "nbconvert_exporter": "python",
   "pygments_lexer": "ipython3",
   "version": "3.12.4"
  }
 },
 "nbformat": 4,
 "nbformat_minor": 2
}
