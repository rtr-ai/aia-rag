{
 "cells": [
  {
   "cell_type": "code",
   "execution_count": 4,
   "id": "51c140e3-48b4-4e0f-b587-d42c68f1bacc",
   "metadata": {},
   "outputs": [
    {
     "name": "stdout",
     "output_type": "stream",
     "text": [
      "interactive_graph.html\n"
     ]
    },
    {
     "data": {
      "text/html": [
       "\n",
       "        <iframe\n",
       "            width=\"100%\"\n",
       "            height=\"1500px\"\n",
       "            src=\"interactive_graph.html\"\n",
       "            frameborder=\"0\"\n",
       "            allowfullscreen\n",
       "            \n",
       "        ></iframe>\n",
       "        "
      ],
      "text/plain": [
       "<IPython.lib.display.IFrame at 0x1a7de483a88>"
      ]
     },
     "execution_count": 4,
     "metadata": {},
     "output_type": "execute_result"
    }
   ],
   "source": [
    "from pyvis.network import Network\n",
    "import json\n",
    "\n",
    "# Sample JSON data\n",
    "data = [\n",
    "    {\n",
    "        \"id\": \"32\",\n",
    "        \"title\": \"ErwG 1\",\n",
    "        \"content\": \"(1) Zweck dieser Verordnung ist es, das Funktionieren des Binnenmarkts zu verbessern, indem ein einheitlicher Rechtsrahmen insbesondere für die Entwicklung, das Inverkehrbringen, die Inbetriebnahme und die Verwendung von Systemen künstlicher Intelligenz (KI-Systeme) in der Union im Einklang mit den Werten der Union festgelegt wird, um die Einführung von menschenzentrierter und vertrauenswürdiger künstlicher Intelligenz (KI) zu fördern und gleichzeitig ein hohes Schutzniveau in Bezug auf Gesundheit, Sicherheit und der in der Charta der Grundrechte der Europäischen Union („Charta“) verankerten Grundrechte, einschließlich Demokratie, Rechtsstaatlichkeit und Umweltschutz, sicherzustellen, den Schutz vor schädlichen Auswirkungen von KI-Systemen in der Union zu gewährleisten und gleichzeitig die Innovation zu unterstützen. Diese Verordnung gewährleistet den grenzüberschreitenden freien Verkehr KI-gestützter Waren und Dienstleistungen, wodurch verhindert wird, dass die Mitgliedstaaten die Entwicklung, Vermarktung und Verwendung von KI-Systemen beschränken, sofern dies nicht ausdrücklich durch diese Verordnung erlaubt wird.\",\n",
    "        \"keywords\": [],\n",
    "        \"negativeKeywords\": [],\n",
    "        \"relevantChunksIds\": [\"23\"],\n",
    "        \"parameters\": []\n",
    "    },\n",
    "    {\n",
    "        \"id\": \"23\",\n",
    "        \"title\": \"ErwG 2\",\n",
    "        \"content\": \"(2) Diese Verordnung sollte im Einklang mit den in der Charta verankerten Werten der Union angewandt werden, den Schutz von natürlichen Personen, Unternehmen, Demokratie und Rechtsstaatlichkeit sowie der Umwelt erleichtern und gleichzeitig Innovation und Beschäftigung fördern und der Union eine Führungsrolle bei der Einführung vertrauenswürdiger KI verschaffen.\",\n",
    "        \"keywords\": [],\n",
    "        \"negativeKeywords\": [],\n",
    "        \"relevantChunksIds\": [\"13\"],\n",
    "        \"parameters\": []\n",
    "    }\n",
    "]\n",
    "\n",
    "# Create a mapping of id to title\n",
    "id_to_title = {entry[\"id\"]: entry[\"title\"] for entry in data}\n",
    "\n",
    "# Initialize a Pyvis network with remote resources for compatibility\n",
    "net = Network(notebook=True, directed=True, height=\"1500px\", width=\"100%\", cdn_resources=\"remote\")\n",
    "net.barnes_hut()\n",
    "# Add nodes with titles and content as hover text\n",
    "for entry in data:\n",
    "    net.add_node(entry[\"title\"], label=entry[\"title\"], title=entry[\"content\"])\n",
    "\n",
    "# Add edges using titles\n",
    "for entry in data:\n",
    "    source_title = entry[\"title\"]\n",
    "    for target_id in entry[\"relevantChunksIds\"]:\n",
    "        target_title = id_to_title.get(target_id)\n",
    "        if target_title:  # Ensure target node exists\n",
    "            net.add_edge(source_title, target_title, title=\"relates to\")\n",
    "\n",
    "# Show the graph\n",
    "net.show_buttons(filter_=['physics'])\n",
    "net.show(\"interactive_graph.html\")\n"
   ]
  }
 ],
 "metadata": {
  "kernelspec": {
   "display_name": "Python 3",
   "language": "python",
   "name": "python3"
  },
  "language_info": {
   "codemirror_mode": {
    "name": "ipython",
    "version": 3
   },
   "file_extension": ".py",
   "mimetype": "text/x-python",
   "name": "python",
   "nbconvert_exporter": "python",
   "pygments_lexer": "ipython3",
   "version": "3.7.9"
  }
 },
 "nbformat": 4,
 "nbformat_minor": 5
}
