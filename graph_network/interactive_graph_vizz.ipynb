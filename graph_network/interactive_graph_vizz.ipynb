{
 "cells": [
  {
   "cell_type": "code",
   "execution_count": null,
   "metadata": {},
   "outputs": [],
   "source": [
    "import json\n",
    "\n",
    "# Open and read the JSON file\n",
    "with open('/chunks_ai_act.json', 'r', encoding='utf-8') as file:\n",
    "    data = json.load(file)\n",
    "\n",
    "# Print the data\n",
    "data = data['chunks']"
   ]
  },
  {
   "cell_type": "code",
   "execution_count": 75,
   "metadata": {},
   "outputs": [
    {
     "name": "stdout",
     "output_type": "stream",
     "text": [
      "interactive_graph.html\n"
     ]
    },
    {
     "data": {
      "text/html": [
       "\n",
       "        <iframe\n",
       "            width=\"100%\"\n",
       "            height=\"900px\"\n",
       "            src=\"interactive_graph.html\"\n",
       "            frameborder=\"0\"\n",
       "            allowfullscreen\n",
       "            \n",
       "        ></iframe>\n",
       "        "
      ],
      "text/plain": [
       "<IPython.lib.display.IFrame at 0x1c42fd68950>"
      ]
     },
     "execution_count": 75,
     "metadata": {},
     "output_type": "execute_result"
    }
   ],
   "source": [
    "from pyvis.network import Network\n",
    "from IPython.display import display, HTML\n",
    "import networkx as nx\n",
    "import json\n",
    "\n",
    "# Create a mapping of id to title\n",
    "id_to_title = {entry[\"id\"]: entry[\"title\"] for entry in data}\n",
    "\n",
    "# Build a NetworkX graph to calculate degrees\n",
    "G = nx.DiGraph()\n",
    "\n",
    "# Add nodes to the graph\n",
    "for entry in data:\n",
    "    G.add_node(entry[\"title\"])\n",
    "\n",
    "# Add edges to the graph\n",
    "for entry in data:\n",
    "    source_title = entry[\"title\"]\n",
    "    for target_id in entry[\"relevantChunksIds\"]:\n",
    "        target_title = id_to_title.get(target_id)\n",
    "        if target_title:  # Ensure target node exists\n",
    "            G.add_edge(source_title, target_title)\n",
    "\n",
    "# Function to determine node color based on title prefix\n",
    "def determine_color(title):\n",
    "    if title.startswith(\"ErwG\"):\n",
    "        return \"violet\"\n",
    "    elif title.startswith(\"Art\"):\n",
    "        return \"SpringGreen\"\n",
    "    elif title.startswith(\"Anhang\"):\n",
    "        return \"SkyBlue\"\n",
    "    else:\n",
    "        return \"gray\"\n",
    "\n",
    "# Initialize a Pyvis network with remote resources for compatibility\n",
    "net = Network(notebook=True, directed=True, height=\"900px\", width=\"100%\", cdn_resources=\"remote\", select_menu=True, filter_menu=True)\n",
    "\n",
    "for node in G.nodes:\n",
    "    degree = G.degree[node]  # Total connections\n",
    "    color = determine_color(node)\n",
    "    size = 10 + degree * 1  # Base size of 10, grows with degree\n",
    "    content = [entry['content'] for entry in data if entry['title'] == node][0]  # Get content based on title\n",
    "    net.add_node(node, label=node, title=content, color={\"background\": color, \"border\": \"black\"}, size=size)\n",
    "\n",
    "# Add edges\n",
    "for edge in G.edges:\n",
    "    source = edge[0]\n",
    "    target = edge[1]\n",
    "    edge_color  = determine_color(source)\n",
    "    net.add_edge(edge[0], edge[1], title=\"relates to\", color=edge_color, borderWidth=2, borderColor=\"black\")\n",
    "    \n",
    "\n",
    "net.toggle_physics(True)\n",
    "#net.show_buttons(filter_=['nodes'])\n",
    "net.show_buttons(filter_=['physics'])\n",
    "\n",
    "# Show the graph\n",
    "net.show(\"interactive_graph.html\")"
   ]
  }
 ],
 "metadata": {
  "kernelspec": {
   "display_name": "Python 3",
   "language": "python",
   "name": "python3"
  },
  "language_info": {
   "codemirror_mode": {
    "name": "ipython",
    "version": 3
   },
   "file_extension": ".py",
   "mimetype": "text/x-python",
   "name": "python",
   "nbconvert_exporter": "python",
   "pygments_lexer": "ipython3",
   "version": "3.12.4"
  }
 },
 "nbformat": 4,
 "nbformat_minor": 2
}
