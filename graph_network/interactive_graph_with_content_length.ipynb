{
 "cells": [
  {
   "cell_type": "code",
   "execution_count": null,
   "metadata": {},
   "outputs": [],
   "source": [
    "import json\n",
    "\n",
    "# Open and read the JSON file\n",
    "with open('/aia_chunks_querverweise_index_with_text_length.json', 'r', encoding='utf-8') as file:\n",
    "    data = json.load(file)\n",
    "\n",
    "# Print the data\n",
    "data = data['chunks']"
   ]
  },
  {
   "cell_type": "code",
   "execution_count": 118,
   "metadata": {},
   "outputs": [
    {
     "name": "stdout",
     "output_type": "stream",
     "text": [
      "interactive_graph.html\n"
     ]
    },
    {
     "data": {
      "text/html": [
       "\n",
       "        <iframe\n",
       "            width=\"100%\"\n",
       "            height=\"900px\"\n",
       "            src=\"interactive_graph.html\"\n",
       "            frameborder=\"0\"\n",
       "            allowfullscreen\n",
       "            \n",
       "        ></iframe>\n",
       "        "
      ],
      "text/plain": [
       "<IPython.lib.display.IFrame at 0x1b843146a50>"
      ]
     },
     "execution_count": 118,
     "metadata": {},
     "output_type": "execute_result"
    }
   ],
   "source": [
    "from pyvis.network import Network\n",
    "import networkx as nx\n",
    "import json\n",
    "\n",
    "# Create a mapping of id to title\n",
    "id_to_title = {entry[\"id\"]: entry[\"title\"] for entry in data}\n",
    "\n",
    "# Build a NetworkX graph to calculate degrees\n",
    "G = nx.DiGraph()\n",
    "\n",
    "# Add nodes to the graph\n",
    "for entry in data:\n",
    "    G.add_node(entry[\"title\"])\n",
    "\n",
    "# Add edges to the graph\n",
    "for entry in data:\n",
    "    source_title = entry[\"title\"]\n",
    "    for target_id in entry[\"relevantChunksIds\"]:\n",
    "        target_title = id_to_title.get(target_id)\n",
    "        if target_title:  # Ensure target node exists\n",
    "            G.add_edge(source_title, target_title)\n",
    "\n",
    "# Function to determine node color based on title prefix\n",
    "def determine_color(title):\n",
    "    if title.startswith(\"ErwG\"):\n",
    "        return \"violet\"\n",
    "    elif title.startswith(\"Art\"):\n",
    "        return \"SpringGreen\"\n",
    "    elif title.startswith(\"Anhang\"):\n",
    "        return \"SkyBlue\"\n",
    "    else:\n",
    "        return \"gray\"\n",
    "\n",
    "# Initialize a Pyvis network with remote resources for compatibility\n",
    "net = Network(notebook=True, directed=True, height=\"900px\", width=\"100%\", cdn_resources=\"remote\", select_menu=True, filter_menu=True)\n",
    "\n",
    "# Create a dictionary for fast content lookup by title\n",
    "title_to_content = {entry['title']: entry['content'] for entry in data}\n",
    "\n",
    "for node in G.nodes:\n",
    "    color = determine_color(node)\n",
    "    \n",
    "    # Find content length based on title\n",
    "    content_length = 0\n",
    "    for entry in data:\n",
    "        if entry['title'] == node:\n",
    "            content_length = entry['content_length']\n",
    "            break\n",
    "\n",
    "    # Define size based on content length (e.g., scale it appropriately)\n",
    "    size = 10 + content_length / 100  # You can adjust the scaling factor based on your data's content_length range\n",
    "    \n",
    "    # Fetch the content based on the node's title\n",
    "    content = title_to_content.get(node, \"No content available\")\n",
    "\n",
    "    # Create hover text with truncated content (if necessary)\n",
    "    MAX_CONTENT_LENGTH = 3000  # Adjust the max length for hover content\n",
    "    hover_text = f\"Title: {node} | Content Length: {content_length} | {content[:MAX_CONTENT_LENGTH]}...\"\n",
    "\n",
    "    # Add node with hover text\n",
    "    net.add_node(node, label=node, title=hover_text, color={\"background\": color, \"border\": \"black\"}, size=size)\n",
    "\n",
    "# Add edges\n",
    "for edge in G.edges:\n",
    "    source = edge[0]\n",
    "    target = edge[1]\n",
    "    edge_color = determine_color(source)\n",
    "    net.add_edge(source, target, title=\"relates to\", color=edge_color, borderWidth=2, borderColor=\"black\")\n",
    "\n",
    "#net.toggle_physics(True)\n",
    "#net.show_buttons(filter_=['physics'])\n",
    "net.set_options(\"\"\"\n",
    "                const options = {\n",
    "  \"physics\": {\n",
    "    \"repulsion\": {\n",
    "      \"centralGravity\": 0,\n",
    "      \"springLength\": 380,\n",
    "      \"nodeDistance\": 210\n",
    "    },\n",
    "    \"minVelocity\": 0.75,\n",
    "    \"solver\": \"repulsion\"\n",
    "  }\n",
    "}\n",
    "                \"\"\")\n",
    "\n",
    "# Show the graph\n",
    "net.show(\"interactive_graph.html\")\n"
   ]
  }
 ],
 "metadata": {
  "kernelspec": {
   "display_name": "Python 3",
   "language": "python",
   "name": "python3"
  },
  "language_info": {
   "codemirror_mode": {
    "name": "ipython",
    "version": 3
   },
   "file_extension": ".py",
   "mimetype": "text/x-python",
   "name": "python",
   "nbconvert_exporter": "python",
   "pygments_lexer": "ipython3",
   "version": "3.12.3"
  }
 },
 "nbformat": 4,
 "nbformat_minor": 2
}
