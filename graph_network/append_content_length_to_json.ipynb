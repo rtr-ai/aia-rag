{
 "cells": [
  {
   "cell_type": "code",
   "execution_count": 5,
   "metadata": {},
   "outputs": [
    {
     "name": "stdout",
     "output_type": "stream",
     "text": [
      "Updated JSON data has been saved to /updated_data.json'\n"
     ]
    }
   ],
   "source": [
    "import json\n",
    "\n",
    "with open('/combined.json', 'r', encoding='utf-8') as file:\n",
    "    data = json.load(file)\n",
    "\n",
    "# Print the data\n",
    "data = data\n",
    "\n",
    "# Iterate over chunks and handle both strings and dictionaries\n",
    "for i, chunk in enumerate(data[\"chunks\"]):\n",
    "    if isinstance(chunk, dict) and \"content\" in chunk:\n",
    "        # Add content_length to dictionary chunks\n",
    "        chunk[\"content_length\"] = len(chunk[\"content\"])\n",
    "    elif isinstance(chunk, str):\n",
    "        # Convert string chunks into dictionaries and add content_length\n",
    "        data[\"chunks\"][i] = {\n",
    "            \"content\": chunk,\n",
    "            \"content_length\": len(chunk)\n",
    "        }\n",
    "\n",
    "# Pretty-print the updated JSON\n",
    "#print(json.dumps(data, indent=4, ensure_ascii=False))\n",
    "\n",
    "output_file = \"/updated_data.json\"\n",
    "\n",
    "# Save to JSON file\n",
    "with open(output_file, \"w\", encoding=\"utf-8\") as f:\n",
    "    json.dump(data, f, indent=4, ensure_ascii=False)\n",
    "\n",
    "print(f\"Updated JSON data has been saved to '{output_file}'\")\n"
   ]
  }
 ],
 "metadata": {
  "kernelspec": {
   "display_name": "Python 3",
   "language": "python",
   "name": "python3"
  },
  "language_info": {
   "codemirror_mode": {
    "name": "ipython",
    "version": 3
   },
   "file_extension": ".py",
   "mimetype": "text/x-python",
   "name": "python",
   "nbconvert_exporter": "python",
   "pygments_lexer": "ipython3",
   "version": "3.12.4"
  }
 },
 "nbformat": 4,
 "nbformat_minor": 2
}
