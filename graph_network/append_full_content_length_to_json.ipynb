{
 "cells": [
  {
   "cell_type": "code",
   "execution_count": null,
   "metadata": {},
   "outputs": [],
   "source": [
    "import json\n",
    "\n",
    "# Load the JSON file\n",
    "with open('C:/Users/Bojan/Downloads/combined.json', 'r', encoding='utf-8') as file:\n",
    "    data = json.load(file)\n",
    "\n",
    "# Create a mapping of chunk IDs to their content lengths for easy lookup\n",
    "content_length_mapping = {\n",
    "    chunk[\"id\"]: chunk[\"content_length\"] if \"content_length\" in chunk else len(chunk[\"content\"])\n",
    "    for chunk in data[\"chunks\"]\n",
    "}\n",
    "\n",
    "# Iterate over the chunks to calculate additional fields\n",
    "for chunk in data[\"chunks\"]:\n",
    "    if isinstance(chunk, dict) and \"content\" in chunk:\n",
    "        # Ensure content_length is present\n",
    "        chunk[\"content_length\"] = len(chunk[\"content\"])\n",
    "\n",
    "        # Calculate content_plus_length\n",
    "        related_ids = chunk.get(\"relevantChunksIds\", [])\n",
    "        related_length = sum(content_length_mapping.get(id_, 0) for id_ in related_ids)\n",
    "        chunk[\"content_plus_length\"] = chunk[\"content_length\"] + related_length\n",
    "\n",
    "        # Calculate relevantChunksIdsNum\n",
    "        chunk[\"relevantChunksIdsNum\"] = len(related_ids)\n",
    "\n",
    "# Save the updated JSON data to a file\n",
    "output_file = \"C:/Users/Bojan/Downloads/updated_data_plus.json\"\n",
    "with open(output_file, \"w\", encoding=\"utf-8\") as f:\n",
    "    json.dump(data, f, indent=4, ensure_ascii=False)\n",
    "\n",
    "print(f\"Updated JSON data has been saved to '{output_file}'\")"
   ]
  }
 ],
 "metadata": {
  "language_info": {
   "name": "python"
  }
 },
 "nbformat": 4,
 "nbformat_minor": 2
}
